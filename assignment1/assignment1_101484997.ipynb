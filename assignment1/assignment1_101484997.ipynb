{
 "cells": [
  {
   "cell_type": "code",
   "id": "initial_id",
   "metadata": {
    "collapsed": true,
    "ExecuteTime": {
     "end_time": "2025-02-10T20:41:46.771263Z",
     "start_time": "2025-02-10T20:41:46.767584Z"
    }
   },
   "source": [
    "'''\n",
    "Author: Ivan Barnash\n",
    "Assignment: #1\n",
    "'''\n",
    "\n",
    "gym_member = \"Alex Alliton\" # str\n",
    "preferred_weight_kg = 20.5  # float\n",
    "highest_reps = 25           # int\n",
    "membership_active = True    # bool\n",
    "\n",
    "#creating dictionary\n",
    "workout_stats = {\n",
    "    \"Alex\": (30, 45, 20),\n",
    "    \"Jamie\": (25, 50, 30),\n",
    "    \"Taylor\": (40, 35, 25)\n",
    "}\n",
    "\n",
    "total_minutes = {person + \"_Total\": sum(minutes) for person, minutes in workout_stats.items()}\n",
    "workout_stats.update(total_minutes)\n",
    "\n",
    "workout_list = [list(minutes) for person, minutes in workout_stats.items() if \"_Total\" not in person]\n",
    "\n",
    "print(\"\\nYoga and running minutes for all people:\")\n",
    "print([row[:2] for row in workout_list])\n",
    "print(\"\\nWeightlifting minutes for the last two people:\")\n",
    "print([row[2] for row in workout_list[-2:]])\n",
    "\n",
    "for person, total in workout_stats.items():\n",
    "    if \"_Total\" in person and total >= 120:\n",
    "        print(f\"Great job staying active, {person.replace('_Total', '')}!\") #removing _Total\n",
    "\n",
    "person_name = input(\"Enter a name: \")\n",
    "if person_name in workout_stats:\n",
    "    minutes = workout_stats[person_name]\n",
    "    print(f\"Workout minutes for {person_name}: Yoga: {minutes[0]}, Running: {minutes[1]}, Weightlifting: {minutes[2]}\")\n",
    "    print(f\"Total workout minutes: {workout_stats[f'{person_name}_Total']}\")\n",
    "else:\n",
    "    print(f\"Person {person_name} not found in the records.\")\n",
    "\n",
    "person_totals = {person: total for person, total in workout_stats.items() if \"_Total\" in person}\n",
    "highest = max(person_totals, key=person_totals.get).replace(\"_Total\", \"\")\n",
    "lowest = min(person_totals, key=person_totals.get).replace(\"_Total\", \"\")\n",
    "print(f\"\\nA person with highest workout time: {highest}\")\n",
    "print(f\"\\nA person with lowest workout time: {lowest}\")\n"
   ],
   "outputs": [],
   "execution_count": null
  },
  {
   "metadata": {},
   "cell_type": "markdown",
   "source": "",
   "id": "479d512dd6569d35"
  }
 ],
 "metadata": {
  "kernelspec": {
   "display_name": "Python 3",
   "language": "python",
   "name": "python3"
  },
  "language_info": {
   "codemirror_mode": {
    "name": "ipython",
    "version": 2
   },
   "file_extension": ".py",
   "mimetype": "text/x-python",
   "name": "python",
   "nbconvert_exporter": "python",
   "pygments_lexer": "ipython2",
   "version": "2.7.6"
  }
 },
 "nbformat": 4,
 "nbformat_minor": 5
}
